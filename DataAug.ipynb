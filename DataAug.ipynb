{
 "cells": [
  {
   "cell_type": "code",
   "execution_count": 1,
   "metadata": {},
   "outputs": [
    {
     "name": "stdout",
     "output_type": "stream",
     "text": [
      "Defaulting to user installation because normal site-packages is not writeable\n",
      "Requirement already satisfied: augmentor in c:\\users\\lucca\\appdata\\roaming\\python\\python311\\site-packages (0.2.12)\n",
      "Requirement already satisfied: Pillow>=5.2.0 in c:\\users\\lucca\\appdata\\roaming\\python\\python311\\site-packages (from augmentor) (10.0.0)\n",
      "Requirement already satisfied: tqdm>=4.9.0 in c:\\users\\lucca\\appdata\\roaming\\python\\python311\\site-packages (from augmentor) (4.66.1)\n",
      "Requirement already satisfied: numpy>=1.11.0 in c:\\users\\lucca\\appdata\\roaming\\python\\python311\\site-packages (from augmentor) (1.24.3)\n",
      "Requirement already satisfied: colorama in c:\\users\\lucca\\appdata\\roaming\\python\\python311\\site-packages (from tqdm>=4.9.0->augmentor) (0.4.6)\n",
      "Note: you may need to restart the kernel to use updated packages.\n"
     ]
    }
   ],
   "source": [
    "%pip install augmentor"
   ]
  },
  {
   "cell_type": "code",
   "execution_count": 2,
   "metadata": {},
   "outputs": [],
   "source": [
    "import tensorflow as tf\n",
    "from tensorflow import keras\n",
    "import pathlib\n",
    "import PIL\n",
    "import numpy as np\n",
    "import matplotlib.pyplot as plt\n",
    "import Augmentor"
   ]
  },
  {
   "cell_type": "code",
   "execution_count": 3,
   "metadata": {},
   "outputs": [
    {
     "name": "stdout",
     "output_type": "stream",
     "text": [
      "Initialised with 19964 image(s) found.\n",
      "Output directory set to ./dataset brasileiro/TREINO/output\\output."
     ]
    }
   ],
   "source": [
    "p1 = Augmentor.Pipeline(\"./dataset brasileiro/TREINO\") #colocar o path das classes"
   ]
  },
  {
   "cell_type": "code",
   "execution_count": 4,
   "metadata": {},
   "outputs": [],
   "source": [
    "p1.rotate(\n",
    "    probability = 0.8,\n",
    "    max_left_rotation = 25,\n",
    "    max_right_rotation = 25\n",
    ")"
   ]
  },
  {
   "cell_type": "code",
   "execution_count": 5,
   "metadata": {},
   "outputs": [],
   "source": [
    "p1.zoom(\n",
    "    probability = 0.7,\n",
    "    min_factor = 1.1,\n",
    "    max_factor = 1.5\n",
    ")"
   ]
  },
  {
   "cell_type": "code",
   "execution_count": 6,
   "metadata": {},
   "outputs": [],
   "source": [
    "p1.flip_left_right(\n",
    "    probability = 0.5\n",
    ")\n"
   ]
  },
  {
   "cell_type": "code",
   "execution_count": 7,
   "metadata": {},
   "outputs": [],
   "source": [
    "p1.flip_top_bottom(\n",
    "    probability = 0.5\n",
    ")"
   ]
  },
  {
   "cell_type": "code",
   "execution_count": 8,
   "metadata": {},
   "outputs": [],
   "source": [
    "p1.skew_tilt(\n",
    "    probability = 0.76\n",
    ")"
   ]
  },
  {
   "cell_type": "code",
   "execution_count": 9,
   "metadata": {},
   "outputs": [
    {
     "name": "stderr",
     "output_type": "stream",
     "text": [
      "Processing <PIL.Image.Image image mode=RGB size=224x224 at 0x1F5EB7E8ED0>: 100%|██████████| 100/100 [00:00<00:00, 747.82 Samples/s]\n",
      "Processing <PIL.Image.Image image mode=RGB size=224x224 at 0x1F5F05E8890>: 100%|██████████| 19964/19964 [00:30<00:00, 645.15 Samples/s]                   \n"
     ]
    }
   ],
   "source": [
    "p1.sample(100)\n",
    "p1.process()"
   ]
  }
 ],
 "metadata": {
  "kernelspec": {
   "display_name": "Python 3",
   "language": "python",
   "name": "python3"
  },
  "language_info": {
   "codemirror_mode": {
    "name": "ipython",
    "version": 3
   },
   "file_extension": ".py",
   "mimetype": "text/x-python",
   "name": "python",
   "nbconvert_exporter": "python",
   "pygments_lexer": "ipython3",
   "version": "3.11.4"
  },
  "orig_nbformat": 4
 },
 "nbformat": 4,
 "nbformat_minor": 2
}
