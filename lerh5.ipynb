{
 "cells": [
  {
   "cell_type": "code",
   "execution_count": 6,
   "metadata": {},
   "outputs": [
    {
     "ename": "IndexError",
     "evalue": "tuple index out of range",
     "output_type": "error",
     "traceback": [
      "\u001b[1;31m---------------------------------------------------------------------------\u001b[0m",
      "\u001b[1;31mIndexError\u001b[0m                                Traceback (most recent call last)",
      "\u001b[1;32mc:\\Users\\Lucca\\Desktop\\iaaa\\lerh5.ipynb Cell 1\u001b[0m line \u001b[0;36m9\n\u001b[0;32m      <a href='vscode-notebook-cell:/c%3A/Users/Lucca/Desktop/iaaa/lerh5.ipynb#W0sZmlsZQ%3D%3D?line=5'>6</a>\u001b[0m modelo \u001b[39m=\u001b[39m load_model(\u001b[39m'\u001b[39m\u001b[39m./TreinosTF/ResNet50V2/v40/model.01-0.80.h5\u001b[39m\u001b[39m'\u001b[39m)\n\u001b[0;32m      <a href='vscode-notebook-cell:/c%3A/Users/Lucca/Desktop/iaaa/lerh5.ipynb#W0sZmlsZQ%3D%3D?line=7'>8</a>\u001b[0m \u001b[39m# Substitua 'X_test' pelos seus dados de teste\u001b[39;00m\n\u001b[1;32m----> <a href='vscode-notebook-cell:/c%3A/Users/Lucca/Desktop/iaaa/lerh5.ipynb#W0sZmlsZQ%3D%3D?line=8'>9</a>\u001b[0m previsoes \u001b[39m=\u001b[39m modelo\u001b[39m.\u001b[39;49mpredict(\u001b[39m\"\u001b[39;49m\u001b[39m./TreinosTF/ResNet50V2/v40/model.06-0.84.h5\u001b[39;49m\u001b[39m\"\u001b[39;49m)\n\u001b[0;32m     <a href='vscode-notebook-cell:/c%3A/Users/Lucca/Desktop/iaaa/lerh5.ipynb#W0sZmlsZQ%3D%3D?line=10'>11</a>\u001b[0m \u001b[39m# Substitua 'y_test' pelos rótulos verdadeiros correspondentes aos dados de teste\u001b[39;00m\n\u001b[0;32m     <a href='vscode-notebook-cell:/c%3A/Users/Lucca/Desktop/iaaa/lerh5.ipynb#W0sZmlsZQ%3D%3D?line=11'>12</a>\u001b[0m rótulos_previstos \u001b[39m=\u001b[39m np\u001b[39m.\u001b[39margmax(previsoes, axis\u001b[39m=\u001b[39m\u001b[39m1\u001b[39m)\n",
      "File \u001b[1;32mc:\\Users\\Lucca\\AppData\\Local\\Programs\\Python\\Python310\\lib\\site-packages\\keras\\utils\\traceback_utils.py:70\u001b[0m, in \u001b[0;36mfilter_traceback.<locals>.error_handler\u001b[1;34m(*args, **kwargs)\u001b[0m\n\u001b[0;32m     67\u001b[0m     filtered_tb \u001b[39m=\u001b[39m _process_traceback_frames(e\u001b[39m.\u001b[39m__traceback__)\n\u001b[0;32m     68\u001b[0m     \u001b[39m# To get the full stack trace, call:\u001b[39;00m\n\u001b[0;32m     69\u001b[0m     \u001b[39m# `tf.debugging.disable_traceback_filtering()`\u001b[39;00m\n\u001b[1;32m---> 70\u001b[0m     \u001b[39mraise\u001b[39;00m e\u001b[39m.\u001b[39mwith_traceback(filtered_tb) \u001b[39mfrom\u001b[39;00m \u001b[39mNone\u001b[39;00m\n\u001b[0;32m     71\u001b[0m \u001b[39mfinally\u001b[39;00m:\n\u001b[0;32m     72\u001b[0m     \u001b[39mdel\u001b[39;00m filtered_tb\n",
      "File \u001b[1;32m~\\AppData\\Roaming\\Python\\Python310\\site-packages\\tensorflow\\python\\framework\\tensor_shape.py:910\u001b[0m, in \u001b[0;36mTensorShape.__getitem__\u001b[1;34m(self, key)\u001b[0m\n\u001b[0;32m    908\u001b[0m \u001b[39melse\u001b[39;00m:\n\u001b[0;32m    909\u001b[0m   \u001b[39mif\u001b[39;00m \u001b[39mself\u001b[39m\u001b[39m.\u001b[39m_v2_behavior:\n\u001b[1;32m--> 910\u001b[0m     \u001b[39mreturn\u001b[39;00m \u001b[39mself\u001b[39;49m\u001b[39m.\u001b[39;49m_dims[key]\n\u001b[0;32m    911\u001b[0m   \u001b[39melse\u001b[39;00m:\n\u001b[0;32m    912\u001b[0m     \u001b[39mreturn\u001b[39;00m \u001b[39mself\u001b[39m\u001b[39m.\u001b[39mdims[key]\n",
      "\u001b[1;31mIndexError\u001b[0m: tuple index out of range"
     ]
    }
   ],
   "source": [
    "import numpy as np\n",
    "import h5py\n",
    "from keras.models import load_model\n",
    "\n",
    "# Substitua 'seu_modelo.h5' pelo caminho para o arquivo .h5 do seu modelo treinado\n",
    "modelo = load_model('./TreinosTF/ResNet50V2/v40/model.01-0.80.h5')\n",
    "\n",
    "# Substitua 'X_test' pelos seus dados de teste\n",
    "previsoes = modelo.predict(\"./TreinosTF/ResNet50V2/v40/model.06-0.84.h5\")\n",
    "\n",
    "# Substitua 'y_test' pelos rótulos verdadeiros correspondentes aos dados de teste\n",
    "rótulos_previstos = np.argmax(previsoes, axis=1)\n",
    "rótulos_verdadeiros = np.argmax(y_test, axis=1)  # Se seus rótulos forem one-hot encoded\n",
    "\n",
    "acurácia = np.mean(rótulos_previstos == rótulos_verdadeiros)\n"
   ]
  }
 ],
 "metadata": {
  "kernelspec": {
   "display_name": "Python 3",
   "language": "python",
   "name": "python3"
  },
  "language_info": {
   "codemirror_mode": {
    "name": "ipython",
    "version": 3
   },
   "file_extension": ".py",
   "mimetype": "text/x-python",
   "name": "python",
   "nbconvert_exporter": "python",
   "pygments_lexer": "ipython3",
   "version": "3.10.11"
  }
 },
 "nbformat": 4,
 "nbformat_minor": 2
}
